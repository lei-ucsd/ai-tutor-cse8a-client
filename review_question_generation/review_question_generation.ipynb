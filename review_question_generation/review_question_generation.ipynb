{
 "cells": [
  {
   "cell_type": "code",
   "execution_count": null,
   "id": "723f7464",
   "metadata": {},
   "outputs": [],
   "source": [
    "from questions import data\n",
    "from textbook_q import *\n",
    "from chapter2 import chapter\n",
    "import os\n",
    "import json\n",
    "import threading\n",
    "import shutil\n",
    "import argparse\n",
    "import openai\n",
    "from tqdm import tqdm\n",
    "import time\n",
    "import pickle\n",
    "from nltk import sent_tokenize\n",
    "import random\n",
    "import string\n",
    "from tqdm import tqdm"
   ]
  },
  {
   "cell_type": "code",
   "execution_count": null,
   "id": "af96124d",
   "metadata": {},
   "outputs": [],
   "source": [
    "def gpt_new_conversation(prompt, temperature=0, pp=0):\n",
    "    \"\"\"\n",
    "    Input: The prompt temperature (default 0) and presence penalty (default 0)\n",
    "    Output: A list of dict that contains the user prompt and ChatGPT's answer to the prompt\n",
    "    \"\"\"\n",
    "\n",
    "    try:\n",
    "        conversation = [{'role': 'user', 'content': prompt}]\n",
    "        response = openai.ChatCompletion.create(\n",
    "            model=\"gpt-4-0314\",\n",
    "            messages=conversation,\n",
    "            temperature=temperature,\n",
    "            request_timeout=120,\n",
    "            presence_penalty=pp,\n",
    "            max_tokens=2000,\n",
    "            top_p=1,\n",
    "            frequency_penalty=0)\n",
    "    #     print(response)\n",
    "        content = response.choices[0]['message']['content']\n",
    "        # Remove the first sentence of the answer\n",
    "        role = response.choices[0]['message']['role']\n",
    "        conversation.append({'role': role, 'content': content})\n",
    "        # This can be useful to calculate the cost\n",
    "        # cost = response.usage['total_tokens']\n",
    "\n",
    "        return conversation\n",
    "    except:\n",
    "        print(\"*** ChatGPT has time out. If you see this message too many times, please consider stop ***\")\n",
    "        time.sleep(5)\n",
    "        return gpt_new_conversation(prompt, temperature)\n"
   ]
  },
  {
   "cell_type": "code",
   "execution_count": null,
   "id": "4dd272a0",
   "metadata": {},
   "outputs": [],
   "source": [
    "def generate_sample_review_questions(topic, question, answer, sub_chapter):\n",
    "    prompt = f\"\"\"You are the instructor for a college introductory level nano engineering course \\\n",
    "    designed for students with only rudimentary understandings of physics and chemistry. Right now you are \\\n",
    "    doing a review session for students to prepare for their finals on the topic of {topic}. You need to \\\n",
    "    come up with an original review question and correct answer that closely follow the style of a sample\\\n",
    "    review question and answer written by a real instructor for this course. Your review question and answer \\\n",
    "    should base on the contents of a textbook chapter on the topic of {topic}. Below you will see the chapter and also \\\n",
    "    the sample review question and answer whose style you should follow.\\\n",
    "    \n",
    "    Sample review question : {question}\n",
    "    \n",
    "    Sample answer for the question: {answer}\n",
    "    \n",
    "    Textbook chapter : {sub_chapter}\n",
    "    \n",
    "    The output format is *important*, you need to return your generated review question and answer in the format of a \\\n",
    "    *python dictionary*,  \"question\": your generated review question, \"answer\": your generated answer. \n",
    "    \"\"\"\n",
    "    convo = gpt_new_conversation(prompt, temperature = 0.2)\n",
    "    \n",
    "    return convo\n",
    "    "
   ]
  },
  {
   "cell_type": "code",
   "execution_count": null,
   "id": "dc4a6c46",
   "metadata": {},
   "outputs": [],
   "source": [
    "def remove_trail_punct(text):\n",
    "    i=0\n",
    "    \n",
    "    for t in text:\n",
    "        if t.lower().isalpha():\n",
    "            start = i\n",
    "            break\n",
    "        else:\n",
    "            i+=1\n",
    "    i =len(text)-1\n",
    "    for t in text[::-1]:\n",
    "        if t.lower().isalpha():\n",
    "            end = i\n",
    "            break\n",
    "        else:\n",
    "            i-=1\n",
    "    return  text[start:end+1]\n",
    "        "
   ]
  },
  {
   "cell_type": "code",
   "execution_count": null,
   "id": "5379d827",
   "metadata": {},
   "outputs": [],
   "source": [
    "ret_list =[]\n",
    "for count in tqdm(range(50)):\n",
    "\n",
    "    x = random.choice(list(range(len(chapter))))\n",
    "    y = random.choice(list(range(len(textbook_questions))))\n",
    "    sub_chapter = chapter[x]['text']\n",
    "    topic = chapter[x]['topic']\n",
    "\n",
    "    question = textbook_questions[y]\n",
    "    answer = textbook_answers[y]\n",
    "    print(topic)\n",
    "    convo = generate_sample_review_questions(topic = topic, question =question, answer = answer, sub_chapter= sub_chapter)\n",
    "    \n",
    "    ret = {\"topic\":topic, \"sub_chapter\":sub_chapter, \"sample_question\": question, \"sample_answer\": answer, \"convo\": convo}\n",
    "    ret_list.append(ret)\n",
    "    with open(\"gpt_review_questions.pickle\", \"wb\") as f:\n",
    "        pickle.dump(ret_list, f)\n",
    "    shutil.copyfile(\"gpt_review_questions.pickle\", \"gpt_review_questions_copy.pickle\")\n",
    "    \n",
    "    \n",
    "    "
   ]
  },
  {
   "cell_type": "code",
   "execution_count": null,
   "id": "9439c5cd",
   "metadata": {},
   "outputs": [],
   "source": [
    "for i in range(len(ret_list)):\n",
    "    convo = ret_list[i]\n",
    "    a = convo['convo'][1]['content'].replace(\"\"\"\"question\":\"\"\", \"QUESTION\")\n",
    "    a = a.replace(\"\"\"\"answer\":\"\"\", \"ANSWER\")\n",
    "    b= a.split(\"QUESTION\")\n",
    "    c = b[1].split('ANSWER')\n",
    "    \n",
    "    question = remove_trail_punct(c[0])\n",
    "    answer = remove_trail_punct(c[1])\n",
    "    review = {\"question\": question, \"answer\": answer}\n",
    "    ret_list[i][\"review\"] = review"
   ]
  },
  {
   "cell_type": "code",
   "execution_count": null,
   "id": "b81a44e5",
   "metadata": {},
   "outputs": [],
   "source": [
    "with open(\"review_questions_50.pickle\", \"wb\") as f:\n",
    "    pickle.dump(ret_list, f)"
   ]
  }
 ],
 "metadata": {
  "kernelspec": {
   "display_name": "pytorch1.13_with_cuda_python3.8",
   "language": "python",
   "name": "pytorch1.13_with_cuda_python3.8"
  },
  "language_info": {
   "codemirror_mode": {
    "name": "ipython",
    "version": 3
   },
   "file_extension": ".py",
   "mimetype": "text/x-python",
   "name": "python",
   "nbconvert_exporter": "python",
   "pygments_lexer": "ipython3",
   "version": "3.8.17"
  }
 },
 "nbformat": 4,
 "nbformat_minor": 5
}
